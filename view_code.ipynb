{
 "cells": [
  {
   "cell_type": "code",
   "execution_count": 1,
   "id": "a904303a-1a75-4f84-9560-383d43dfa541",
   "metadata": {},
   "outputs": [],
   "source": [
    "# installing packages\n",
    "## pip install jupyter-dash\n",
    "## pip install dash-bootstrap-components\n",
    "## pip install alpha-vantage"
   ]
  },
  {
   "cell_type": "code",
   "execution_count": 4,
   "id": "38c23441-e48a-47d0-a8a7-a2535d0277f7",
   "metadata": {},
   "outputs": [],
   "source": [
    "# activating packeges\n",
    "import plotly.express as px\n",
    "from jupyter_dash import JupyterDash\n",
    "import dash_core_components as dcc\n",
    "import dash_html_components as html\n",
    "from dash.dependencies import Input, Output\n",
    "import dash_bootstrap_components as dbc\n",
    "import pandas as pd\n",
    "import plotly.graph_objects as go\n",
    "from alpha_vantage.timeseries import TimeSeries "
   ]
  },
  {
   "cell_type": "code",
   "execution_count": 9,
   "id": "1b32a507-2f0e-48d0-8c17-a7149b434ab3",
   "metadata": {},
   "outputs": [
    {
     "data": {
      "text/html": [
       "\n",
       "        <iframe\n",
       "            width=\"100%\"\n",
       "            height=\"650\"\n",
       "            src=\"http://127.0.0.1:8050/\"\n",
       "            frameborder=\"0\"\n",
       "            allowfullscreen\n",
       "            \n",
       "        ></iframe>\n",
       "        "
      ],
      "text/plain": [
       "<IPython.lib.display.IFrame at 0x23fc1373700>"
      ]
     },
     "metadata": {},
     "output_type": "display_data"
    }
   ],
   "source": [
    "app = JupyterDash(__name__, external_stylesheets=[dbc.themes.BOOTSTRAP],\n",
    "                meta_tags=[{'name': 'viewport',\n",
    "                            'content': 'width=device-width, initial-scale=1.0'}]\n",
    "                )\n",
    "\n",
    "# build app layout (just one card example now) -> in finished view, there will be 5 cards total, drawing from the data\n",
    "\n",
    "app.layout = dbc.Container([\n",
    "    dbc.Row([\n",
    "        dbc.Col([\n",
    "            dbc.Card(\n",
    "                [\n",
    "                    \n",
    "                    dbc.CardBody([\n",
    "                        dbc.Row([\n",
    "                            dbc.Col([\n",
    "                                html.P(\"Name of INDEX 1\") #name of index 1\n",
    "                            ]),\n",
    "\n",
    "                    \n",
    "                        ]),\n",
    "\n",
    "                        dbc.Row([\n",
    "                            dbc.Col([\n",
    "                                html.P(\"CHANGE\") #just writing \"change\"\n",
    "                            ]),\n",
    "\n",
    "                            dbc.Col([\n",
    "                                dcc.Graph(id='indicator-graph', figure={},\n",
    "                                          config={'displayModeBar':False}) #this will be percentage indicator, needs alligning\n",
    "                            ])\n",
    "                        ]),\n",
    "\n",
    "                        dbc.Row([\n",
    "                            dbc.Col([\n",
    "                                dcc.Graph(id='daily-line', figure={},\n",
    "                                          config={'displayModeBar':False}) #this is a line showing price evolvment\n",
    "                            ])\n",
    "                        ]),\n",
    "                      \n",
    "            \n",
    "                    ]),\n",
    "                ],\n",
    "                style={\"width\": \"24rem\"},\n",
    "                className=\"mt-3\"\n",
    "            )\n",
    "        ], width=6)\n",
    "    ], justify='center'),\n",
    "\n",
    "])\n",
    "# Run app and display result in the notebook\n",
    "app.run_server(mode='inline')"
   ]
  }
 ],
 "metadata": {
  "kernelspec": {
   "display_name": "Python 3 (ipykernel)",
   "language": "python",
   "name": "python3"
  },
  "language_info": {
   "codemirror_mode": {
    "name": "ipython",
    "version": 3
   },
   "file_extension": ".py",
   "mimetype": "text/x-python",
   "name": "python",
   "nbconvert_exporter": "python",
   "pygments_lexer": "ipython3",
   "version": "3.9.7"
  }
 },
 "nbformat": 4,
 "nbformat_minor": 5
}
